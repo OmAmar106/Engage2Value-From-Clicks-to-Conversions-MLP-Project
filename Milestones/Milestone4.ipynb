{
 "cells": [
  {
   "cell_type": "code",
   "execution_count": null,
   "metadata": {
    "_cell_guid": "b1076dfc-b9ad-4769-8c92-a6c4dae69d19",
    "_uuid": "8f2839f25d086af736a60e9eeb907d3b93b6e0e5",
    "execution": {
     "iopub.execute_input": "2025-06-27T19:26:50.779447Z",
     "iopub.status.busy": "2025-06-27T19:26:50.778729Z",
     "iopub.status.idle": "2025-06-27T19:26:53.283824Z",
     "shell.execute_reply": "2025-06-27T19:26:53.282809Z",
     "shell.execute_reply.started": "2025-06-27T19:26:50.779415Z"
    },
    "trusted": true
   },
   "outputs": [],
   "source": [
    "import numpy as np\n",
    "import pandas as pd "
   ]
  },
  {
   "cell_type": "code",
   "execution_count": null,
   "metadata": {
    "execution": {
     "iopub.execute_input": "2025-06-27T19:27:03.115314Z",
     "iopub.status.busy": "2025-06-27T19:27:03.114998Z",
     "iopub.status.idle": "2025-06-27T19:27:06.390704Z",
     "shell.execute_reply": "2025-06-27T19:27:06.389689Z",
     "shell.execute_reply.started": "2025-06-27T19:27:03.115288Z"
    },
    "trusted": true
   },
   "outputs": [],
   "source": [
    "df = pd.read_csv('train_data.csv')"
   ]
  },
  {
   "cell_type": "code",
   "execution_count": null,
   "metadata": {
    "execution": {
     "iopub.execute_input": "2025-06-27T19:27:06.392263Z",
     "iopub.status.busy": "2025-06-27T19:27:06.391968Z",
     "iopub.status.idle": "2025-06-27T19:27:06.455769Z",
     "shell.execute_reply": "2025-06-27T19:27:06.454897Z",
     "shell.execute_reply.started": "2025-06-27T19:27:06.392241Z"
    },
    "trusted": true
   },
   "outputs": [],
   "source": [
    "X = df.drop(\"purchaseValue\",axis=1)\n",
    "Y = df[\"purchaseValue\"]"
   ]
  },
  {
   "cell_type": "code",
   "execution_count": null,
   "metadata": {
    "execution": {
     "iopub.execute_input": "2025-06-27T19:31:12.500212Z",
     "iopub.status.busy": "2025-06-27T19:31:12.499885Z",
     "iopub.status.idle": "2025-06-27T19:31:12.604263Z",
     "shell.execute_reply": "2025-06-27T19:31:12.603371Z",
     "shell.execute_reply.started": "2025-06-27T19:31:12.500186Z"
    },
    "trusted": true
   },
   "outputs": [],
   "source": [
    "from sklearn.model_selection import train_test_split\n",
    "X_train,X_test,Y_train,Y_test = train_test_split(X,Y,test_size=0.2,random_state=39)"
   ]
  },
  {
   "cell_type": "code",
   "execution_count": null,
   "metadata": {
    "execution": {
     "iopub.execute_input": "2025-06-27T19:38:29.214236Z",
     "iopub.status.busy": "2025-06-27T19:38:29.213866Z",
     "iopub.status.idle": "2025-06-27T19:38:29.260041Z",
     "shell.execute_reply": "2025-06-27T19:38:29.258762Z",
     "shell.execute_reply.started": "2025-06-27T19:38:29.214207Z"
    },
    "trusted": true
   },
   "outputs": [],
   "source": [
    "cat_cols = X_train.select_dtypes(include=['object','bool']).columns.tolist()\n",
    "num_cols = X_train.select_dtypes(include=['int64', 'float64']).columns.tolist()"
   ]
  },
  {
   "cell_type": "code",
   "execution_count": null,
   "metadata": {
    "execution": {
     "iopub.execute_input": "2025-06-27T19:41:28.862196Z",
     "iopub.status.busy": "2025-06-27T19:41:28.861888Z",
     "iopub.status.idle": "2025-06-27T19:41:36.583609Z",
     "shell.execute_reply": "2025-06-27T19:41:36.582915Z",
     "shell.execute_reply.started": "2025-06-27T19:41:28.862173Z"
    },
    "trusted": true
   },
   "outputs": [],
   "source": [
    "from sklearn.pipeline import Pipeline\n",
    "from sklearn.impute import SimpleImputer\n",
    "from sklearn.preprocessing import OneHotEncoder,StandardScaler\n",
    "from sklearn.compose import ColumnTransformer\n",
    "\n",
    "cat_pipeline = Pipeline([\n",
    "    ('imputer', SimpleImputer(strategy='most_frequent')),\n",
    "    ('encoder', OneHotEncoder(sparse=False, handle_unknown='ignore'))\n",
    "])\n",
    "\n",
    "num_pipeline = Pipeline([\n",
    "    ('imputer', SimpleImputer(strategy='mean')),\n",
    "    ('scaler', StandardScaler())\n",
    "])\n",
    "\n",
    "preprocessor = ColumnTransformer([\n",
    "    ('cat', cat_pipeline, cat_cols),\n",
    "    ('num', num_pipeline, num_cols)\n",
    "])\n",
    "\n",
    "X_train_tr = preprocessor.fit_transform(X_train)\n",
    "X_test_tr = preprocessor.transform(X_test)"
   ]
  },
  {
   "cell_type": "code",
   "execution_count": null,
   "metadata": {
    "execution": {
     "iopub.execute_input": "2025-06-27T19:44:27.181422Z",
     "iopub.status.busy": "2025-06-27T19:44:27.181109Z",
     "iopub.status.idle": "2025-06-27T19:48:35.797809Z",
     "shell.execute_reply": "2025-06-27T19:48:35.796929Z",
     "shell.execute_reply.started": "2025-06-27T19:44:27.181399Z"
    },
    "trusted": true
   },
   "outputs": [],
   "source": [
    "from sklearn.neural_network import MLPRegressor\n",
    "\n",
    "model = MLPRegressor(hidden_layer_sizes=(5, 3))\n",
    "model.fit(X_train_tr,Y_train)"
   ]
  },
  {
   "cell_type": "code",
   "execution_count": null,
   "metadata": {
    "execution": {
     "iopub.execute_input": "2025-06-27T19:48:38.242493Z",
     "iopub.status.busy": "2025-06-27T19:48:38.242186Z",
     "iopub.status.idle": "2025-06-27T19:48:38.717082Z",
     "shell.execute_reply": "2025-06-27T19:48:38.716192Z",
     "shell.execute_reply.started": "2025-06-27T19:48:38.242465Z"
    },
    "trusted": true
   },
   "outputs": [],
   "source": [
    "from sklearn.metrics import r2_score\n",
    "print(r2_score(Y_train,model.predict(X_train_tr)))"
   ]
  },
  {
   "cell_type": "code",
   "execution_count": null,
   "metadata": {
    "execution": {
     "iopub.execute_input": "2025-06-27T20:31:53.447164Z",
     "iopub.status.busy": "2025-06-27T20:31:53.445905Z",
     "iopub.status.idle": "2025-06-27T20:31:53.594975Z",
     "shell.execute_reply": "2025-06-27T20:31:53.594154Z",
     "shell.execute_reply.started": "2025-06-27T20:31:53.447127Z"
    },
    "trusted": true
   },
   "outputs": [],
   "source": [
    "print(r2_score(Y_test,model.predict(X_test_tr)))"
   ]
  },
  {
   "cell_type": "code",
   "execution_count": null,
   "metadata": {
    "execution": {
     "iopub.execute_input": "2025-06-27T20:47:49.463765Z",
     "iopub.status.busy": "2025-06-27T20:47:49.463426Z",
     "iopub.status.idle": "2025-06-27T21:07:19.360722Z",
     "shell.execute_reply": "2025-06-27T21:07:19.358906Z",
     "shell.execute_reply.started": "2025-06-27T20:47:49.463739Z"
    },
    "trusted": true
   },
   "outputs": [],
   "source": [
    "from sklearn.ensemble import VotingRegressor,GradientBoostingRegressor\n",
    "from sklearn.linear_model import LinearRegression\n",
    "\n",
    "reg = VotingRegressor(\n",
    "    estimators=[\n",
    "        ('1',LinearRegression()),\n",
    "        ('2',GradientBoostingRegressor(random_state=39))\n",
    "    ]\n",
    ")\n",
    "\n",
    "reg.fit(X_train_tr,Y_train)"
   ]
  },
  {
   "cell_type": "code",
   "execution_count": null,
   "metadata": {
    "execution": {
     "iopub.execute_input": "2025-06-27T21:07:19.363736Z",
     "iopub.status.busy": "2025-06-27T21:07:19.363354Z",
     "iopub.status.idle": "2025-06-27T21:07:19.785448Z",
     "shell.execute_reply": "2025-06-27T21:07:19.784347Z",
     "shell.execute_reply.started": "2025-06-27T21:07:19.363704Z"
    },
    "trusted": true
   },
   "outputs": [],
   "source": [
    "print(r2_score(Y_test,reg.predict(X_test_tr)))"
   ]
  },
  {
   "cell_type": "code",
   "execution_count": null,
   "metadata": {
    "execution": {
     "iopub.execute_input": "2025-06-27T21:07:19.787180Z",
     "iopub.status.busy": "2025-06-27T21:07:19.786748Z",
     "iopub.status.idle": "2025-06-27T21:07:21.228188Z",
     "shell.execute_reply": "2025-06-27T21:07:21.227350Z",
     "shell.execute_reply.started": "2025-06-27T21:07:19.787137Z"
    },
    "trusted": true
   },
   "outputs": [],
   "source": [
    "print(r2_score(Y_train,reg.predict(X_train_tr)))"
   ]
  },
  {
   "cell_type": "code",
   "execution_count": null,
   "metadata": {
    "execution": {
     "iopub.execute_input": "2025-06-27T21:07:21.230715Z",
     "iopub.status.busy": "2025-06-27T21:07:21.230292Z",
     "iopub.status.idle": "2025-06-27T21:26:09.752962Z",
     "shell.execute_reply": "2025-06-27T21:26:09.752057Z",
     "shell.execute_reply.started": "2025-06-27T21:07:21.230685Z"
    },
    "trusted": true
   },
   "outputs": [],
   "source": [
    "from sklearn.linear_model import Ridge\n",
    "\n",
    "reg1 = VotingRegressor(\n",
    "    estimators=[\n",
    "        ('1',Ridge(random_state=39)),\n",
    "        ('2',GradientBoostingRegressor(random_state=39))\n",
    "    ]\n",
    ")\n",
    "\n",
    "reg1.fit(X_train_tr,Y_train)"
   ]
  },
  {
   "cell_type": "code",
   "execution_count": null,
   "metadata": {
    "execution": {
     "iopub.execute_input": "2025-06-27T21:26:09.754400Z",
     "iopub.status.busy": "2025-06-27T21:26:09.754049Z",
     "iopub.status.idle": "2025-06-27T21:26:11.487658Z",
     "shell.execute_reply": "2025-06-27T21:26:11.486863Z",
     "shell.execute_reply.started": "2025-06-27T21:26:09.754369Z"
    },
    "trusted": true
   },
   "outputs": [],
   "source": [
    "print(r2_score(Y_test,reg1.predict(X_test_tr)))\n",
    "print(r2_score(Y_train,reg1.predict(X_train_tr)))"
   ]
  }
 ],
 "metadata": {
  "kaggle": {
   "accelerator": "none",
   "dataSources": [
    {
     "databundleVersionId": 11895149,
     "sourceId": 99546,
     "sourceType": "competition"
    }
   ],
   "dockerImageVersionId": 31012,
   "isGpuEnabled": false,
   "isInternetEnabled": true,
   "language": "python",
   "sourceType": "notebook"
  },
  "kernelspec": {
   "display_name": "Python 3",
   "language": "python",
   "name": "python3"
  },
  "language_info": {
   "codemirror_mode": {
    "name": "ipython",
    "version": 3
   },
   "file_extension": ".py",
   "mimetype": "text/x-python",
   "name": "python",
   "nbconvert_exporter": "python",
   "pygments_lexer": "ipython3",
   "version": "3.11.11"
  }
 },
 "nbformat": 4,
 "nbformat_minor": 4
}
