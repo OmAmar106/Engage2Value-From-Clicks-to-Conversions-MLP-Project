{
 "cells": [
  {
   "cell_type": "code",
   "execution_count": null,
   "metadata": {
    "_cell_guid": "5c4fddb7-2642-4c72-9195-b46483c06984",
    "_uuid": "3c8b3a2b-47cd-453d-b7e3-f31173ca7769",
    "collapsed": false,
    "execution": {
     "iopub.execute_input": "2025-06-23T18:35:54.158861Z",
     "iopub.status.busy": "2025-06-23T18:35:54.158547Z",
     "iopub.status.idle": "2025-06-23T18:35:57.685068Z",
     "shell.execute_reply": "2025-06-23T18:35:57.684173Z",
     "shell.execute_reply.started": "2025-06-23T18:35:54.158833Z"
    },
    "jupyter": {
     "outputs_hidden": false
    },
    "trusted": true
   },
   "outputs": [],
   "source": [
    "import pandas as pd\n",
    "import numpy as np\n",
    "\n",
    "df = pd.read_csv('train_data.csv')"
   ]
  },
  {
   "cell_type": "code",
   "execution_count": 2,
   "metadata": {
    "execution": {
     "iopub.execute_input": "2025-06-23T18:35:57.686969Z",
     "iopub.status.busy": "2025-06-23T18:35:57.686627Z",
     "iopub.status.idle": "2025-06-23T18:35:57.732728Z",
     "shell.execute_reply": "2025-06-23T18:35:57.731907Z",
     "shell.execute_reply.started": "2025-06-23T18:35:57.686941Z"
    },
    "trusted": true
   },
   "outputs": [
    {
     "name": "stderr",
     "output_type": "stream",
     "text": [
      "/usr/local/lib/python3.11/dist-packages/pandas/io/formats/format.py:1458: RuntimeWarning: invalid value encountered in greater\n",
      "  has_large_values = (abs_vals > 1e6).any()\n",
      "/usr/local/lib/python3.11/dist-packages/pandas/io/formats/format.py:1459: RuntimeWarning: invalid value encountered in less\n",
      "  has_small_values = ((abs_vals < 10 ** (-self.digits)) & (abs_vals > 0)).any()\n",
      "/usr/local/lib/python3.11/dist-packages/pandas/io/formats/format.py:1459: RuntimeWarning: invalid value encountered in greater\n",
      "  has_small_values = ((abs_vals < 10 ** (-self.digits)) & (abs_vals > 0)).any()\n",
      "/usr/local/lib/python3.11/dist-packages/pandas/io/formats/format.py:1458: RuntimeWarning: invalid value encountered in greater\n",
      "  has_large_values = (abs_vals > 1e6).any()\n",
      "/usr/local/lib/python3.11/dist-packages/pandas/io/formats/format.py:1459: RuntimeWarning: invalid value encountered in less\n",
      "  has_small_values = ((abs_vals < 10 ** (-self.digits)) & (abs_vals > 0)).any()\n",
      "/usr/local/lib/python3.11/dist-packages/pandas/io/formats/format.py:1459: RuntimeWarning: invalid value encountered in greater\n",
      "  has_small_values = ((abs_vals < 10 ** (-self.digits)) & (abs_vals > 0)).any()\n"
     ]
    },
    {
     "data": {
      "text/html": [
       "<div>\n",
       "<style scoped>\n",
       "    .dataframe tbody tr th:only-of-type {\n",
       "        vertical-align: middle;\n",
       "    }\n",
       "\n",
       "    .dataframe tbody tr th {\n",
       "        vertical-align: top;\n",
       "    }\n",
       "\n",
       "    .dataframe thead th {\n",
       "        text-align: right;\n",
       "    }\n",
       "</style>\n",
       "<table border=\"1\" class=\"dataframe\">\n",
       "  <thead>\n",
       "    <tr style=\"text-align: right;\">\n",
       "      <th></th>\n",
       "      <th>trafficSource.isTrueDirect</th>\n",
       "      <th>purchaseValue</th>\n",
       "      <th>browser</th>\n",
       "      <th>device.screenResolution</th>\n",
       "      <th>trafficSource.adContent</th>\n",
       "      <th>trafficSource.keyword</th>\n",
       "      <th>screenSize</th>\n",
       "      <th>geoCluster</th>\n",
       "      <th>trafficSource.adwordsClickInfo.slot</th>\n",
       "      <th>device.mobileDeviceBranding</th>\n",
       "      <th>...</th>\n",
       "      <th>device.language</th>\n",
       "      <th>deviceType</th>\n",
       "      <th>userChannel</th>\n",
       "      <th>device.browserVersion</th>\n",
       "      <th>totalHits</th>\n",
       "      <th>device.screenColors</th>\n",
       "      <th>sessionStart</th>\n",
       "      <th>geoNetwork.continent</th>\n",
       "      <th>device.isMobile</th>\n",
       "      <th>new_visits</th>\n",
       "    </tr>\n",
       "  </thead>\n",
       "  <tbody>\n",
       "    <tr>\n",
       "      <th>0</th>\n",
       "      <td>NaN</td>\n",
       "      <td>0.0</td>\n",
       "      <td>Edge</td>\n",
       "      <td>not available in demo dataset</td>\n",
       "      <td>NaN</td>\n",
       "      <td>NaN</td>\n",
       "      <td>medium</td>\n",
       "      <td>Region_2</td>\n",
       "      <td>NaN</td>\n",
       "      <td>not available in demo dataset</td>\n",
       "      <td>...</td>\n",
       "      <td>not available in demo dataset</td>\n",
       "      <td>desktop</td>\n",
       "      <td>Social</td>\n",
       "      <td>not available in demo dataset</td>\n",
       "      <td>1</td>\n",
       "      <td>not available in demo dataset</td>\n",
       "      <td>1500100799</td>\n",
       "      <td>Americas</td>\n",
       "      <td>False</td>\n",
       "      <td>1.0</td>\n",
       "    </tr>\n",
       "    <tr>\n",
       "      <th>1</th>\n",
       "      <td>True</td>\n",
       "      <td>0.0</td>\n",
       "      <td>Chrome</td>\n",
       "      <td>not available in demo dataset</td>\n",
       "      <td>NaN</td>\n",
       "      <td>NaN</td>\n",
       "      <td>medium</td>\n",
       "      <td>Region_3</td>\n",
       "      <td>NaN</td>\n",
       "      <td>not available in demo dataset</td>\n",
       "      <td>...</td>\n",
       "      <td>not available in demo dataset</td>\n",
       "      <td>desktop</td>\n",
       "      <td>Direct</td>\n",
       "      <td>not available in demo dataset</td>\n",
       "      <td>1</td>\n",
       "      <td>not available in demo dataset</td>\n",
       "      <td>1495262065</td>\n",
       "      <td>Americas</td>\n",
       "      <td>False</td>\n",
       "      <td>1.0</td>\n",
       "    </tr>\n",
       "    <tr>\n",
       "      <th>2</th>\n",
       "      <td>True</td>\n",
       "      <td>0.0</td>\n",
       "      <td>Chrome</td>\n",
       "      <td>not available in demo dataset</td>\n",
       "      <td>NaN</td>\n",
       "      <td>(not provided)</td>\n",
       "      <td>medium</td>\n",
       "      <td>Region_2</td>\n",
       "      <td>NaN</td>\n",
       "      <td>not available in demo dataset</td>\n",
       "      <td>...</td>\n",
       "      <td>not available in demo dataset</td>\n",
       "      <td>desktop</td>\n",
       "      <td>Organic Search</td>\n",
       "      <td>not available in demo dataset</td>\n",
       "      <td>6</td>\n",
       "      <td>not available in demo dataset</td>\n",
       "      <td>1508510328</td>\n",
       "      <td>Europe</td>\n",
       "      <td>False</td>\n",
       "      <td>NaN</td>\n",
       "    </tr>\n",
       "    <tr>\n",
       "      <th>3</th>\n",
       "      <td>NaN</td>\n",
       "      <td>0.0</td>\n",
       "      <td>Internet Explorer</td>\n",
       "      <td>not available in demo dataset</td>\n",
       "      <td>NaN</td>\n",
       "      <td>NaN</td>\n",
       "      <td>medium</td>\n",
       "      <td>Region_4</td>\n",
       "      <td>NaN</td>\n",
       "      <td>not available in demo dataset</td>\n",
       "      <td>...</td>\n",
       "      <td>not available in demo dataset</td>\n",
       "      <td>desktop</td>\n",
       "      <td>Social</td>\n",
       "      <td>not available in demo dataset</td>\n",
       "      <td>1</td>\n",
       "      <td>not available in demo dataset</td>\n",
       "      <td>1483431838</td>\n",
       "      <td>Asia</td>\n",
       "      <td>False</td>\n",
       "      <td>1.0</td>\n",
       "    </tr>\n",
       "    <tr>\n",
       "      <th>4</th>\n",
       "      <td>True</td>\n",
       "      <td>88950000.0</td>\n",
       "      <td>Chrome</td>\n",
       "      <td>not available in demo dataset</td>\n",
       "      <td>NaN</td>\n",
       "      <td>NaN</td>\n",
       "      <td>medium</td>\n",
       "      <td>Region_3</td>\n",
       "      <td>NaN</td>\n",
       "      <td>not available in demo dataset</td>\n",
       "      <td>...</td>\n",
       "      <td>not available in demo dataset</td>\n",
       "      <td>desktop</td>\n",
       "      <td>Direct</td>\n",
       "      <td>not available in demo dataset</td>\n",
       "      <td>66</td>\n",
       "      <td>not available in demo dataset</td>\n",
       "      <td>1475804633</td>\n",
       "      <td>Americas</td>\n",
       "      <td>False</td>\n",
       "      <td>1.0</td>\n",
       "    </tr>\n",
       "  </tbody>\n",
       "</table>\n",
       "<p>5 rows × 52 columns</p>\n",
       "</div>"
      ],
      "text/plain": [
       "  trafficSource.isTrueDirect  purchaseValue            browser  \\\n",
       "0                        NaN            0.0               Edge   \n",
       "1                       True            0.0             Chrome   \n",
       "2                       True            0.0             Chrome   \n",
       "3                        NaN            0.0  Internet Explorer   \n",
       "4                       True     88950000.0             Chrome   \n",
       "\n",
       "         device.screenResolution trafficSource.adContent  \\\n",
       "0  not available in demo dataset                     NaN   \n",
       "1  not available in demo dataset                     NaN   \n",
       "2  not available in demo dataset                     NaN   \n",
       "3  not available in demo dataset                     NaN   \n",
       "4  not available in demo dataset                     NaN   \n",
       "\n",
       "  trafficSource.keyword screenSize geoCluster  \\\n",
       "0                   NaN     medium   Region_2   \n",
       "1                   NaN     medium   Region_3   \n",
       "2        (not provided)     medium   Region_2   \n",
       "3                   NaN     medium   Region_4   \n",
       "4                   NaN     medium   Region_3   \n",
       "\n",
       "  trafficSource.adwordsClickInfo.slot    device.mobileDeviceBranding  ...  \\\n",
       "0                                 NaN  not available in demo dataset  ...   \n",
       "1                                 NaN  not available in demo dataset  ...   \n",
       "2                                 NaN  not available in demo dataset  ...   \n",
       "3                                 NaN  not available in demo dataset  ...   \n",
       "4                                 NaN  not available in demo dataset  ...   \n",
       "\n",
       "                 device.language  deviceType     userChannel  \\\n",
       "0  not available in demo dataset     desktop          Social   \n",
       "1  not available in demo dataset     desktop          Direct   \n",
       "2  not available in demo dataset     desktop  Organic Search   \n",
       "3  not available in demo dataset     desktop          Social   \n",
       "4  not available in demo dataset     desktop          Direct   \n",
       "\n",
       "           device.browserVersion totalHits            device.screenColors  \\\n",
       "0  not available in demo dataset         1  not available in demo dataset   \n",
       "1  not available in demo dataset         1  not available in demo dataset   \n",
       "2  not available in demo dataset         6  not available in demo dataset   \n",
       "3  not available in demo dataset         1  not available in demo dataset   \n",
       "4  not available in demo dataset        66  not available in demo dataset   \n",
       "\n",
       "  sessionStart  geoNetwork.continent device.isMobile new_visits  \n",
       "0   1500100799              Americas           False        1.0  \n",
       "1   1495262065              Americas           False        1.0  \n",
       "2   1508510328                Europe           False        NaN  \n",
       "3   1483431838                  Asia           False        1.0  \n",
       "4   1475804633              Americas           False        1.0  \n",
       "\n",
       "[5 rows x 52 columns]"
      ]
     },
     "execution_count": 2,
     "metadata": {},
     "output_type": "execute_result"
    }
   ],
   "source": [
    "df.head()"
   ]
  },
  {
   "cell_type": "code",
   "execution_count": 3,
   "metadata": {
    "execution": {
     "iopub.execute_input": "2025-06-23T18:35:57.733876Z",
     "iopub.status.busy": "2025-06-23T18:35:57.733588Z",
     "iopub.status.idle": "2025-06-23T18:35:57.788634Z",
     "shell.execute_reply": "2025-06-23T18:35:57.787823Z",
     "shell.execute_reply.started": "2025-06-23T18:35:57.733837Z"
    },
    "trusted": true
   },
   "outputs": [],
   "source": [
    "X = df.drop(['purchaseValue'],axis=1)\n",
    "Y = df['purchaseValue']"
   ]
  },
  {
   "cell_type": "code",
   "execution_count": 4,
   "metadata": {
    "execution": {
     "iopub.execute_input": "2025-06-23T18:35:57.790744Z",
     "iopub.status.busy": "2025-06-23T18:35:57.790435Z",
     "iopub.status.idle": "2025-06-23T18:35:58.034865Z",
     "shell.execute_reply": "2025-06-23T18:35:58.034135Z",
     "shell.execute_reply.started": "2025-06-23T18:35:57.790715Z"
    },
    "trusted": true
   },
   "outputs": [
    {
     "name": "stdout",
     "output_type": "stream",
     "text": [
      "<class 'pandas.core.frame.DataFrame'>\n",
      "RangeIndex: 116023 entries, 0 to 116022\n",
      "Data columns (total 51 columns):\n",
      " #   Column                                        Non-Null Count   Dtype  \n",
      "---  ------                                        --------------   -----  \n",
      " 0   trafficSource.isTrueDirect                    42890 non-null   object \n",
      " 1   browser                                       116023 non-null  object \n",
      " 2   device.screenResolution                       116023 non-null  object \n",
      " 3   trafficSource.adContent                       2963 non-null    object \n",
      " 4   trafficSource.keyword                         44162 non-null   object \n",
      " 5   screenSize                                    116023 non-null  object \n",
      " 6   geoCluster                                    116023 non-null  object \n",
      " 7   trafficSource.adwordsClickInfo.slot           4281 non-null    object \n",
      " 8   device.mobileDeviceBranding                   116023 non-null  object \n",
      " 9   device.mobileInputSelector                    116023 non-null  object \n",
      " 10  userId                                        116023 non-null  int64  \n",
      " 11  trafficSource.campaign                        116023 non-null  object \n",
      " 12  device.mobileDeviceMarketingName              116023 non-null  object \n",
      " 13  geoNetwork.networkDomain                      116023 non-null  object \n",
      " 14  gclIdPresent                                  116023 non-null  int64  \n",
      " 15  device.operatingSystemVersion                 116023 non-null  object \n",
      " 16  sessionNumber                                 116023 non-null  int64  \n",
      " 17  device.flashVersion                           116023 non-null  object \n",
      " 18  geoNetwork.region                             116023 non-null  object \n",
      " 19  trafficSource                                 116023 non-null  object \n",
      " 20  totals.visits                                 116023 non-null  int64  \n",
      " 21  geoNetwork.networkLocation                    116023 non-null  object \n",
      " 22  sessionId                                     116023 non-null  int64  \n",
      " 23  os                                            116023 non-null  object \n",
      " 24  geoNetwork.subContinent                       116023 non-null  object \n",
      " 25  trafficSource.medium                          116023 non-null  object \n",
      " 26  trafficSource.adwordsClickInfo.isVideoAd      4281 non-null    object \n",
      " 27  browserMajor                                  116023 non-null  object \n",
      " 28  locationCountry                               116023 non-null  object \n",
      " 29  device.browserSize                            116023 non-null  object \n",
      " 30  trafficSource.adwordsClickInfo.adNetworkType  4281 non-null    object \n",
      " 31  socialEngagementType                          116023 non-null  object \n",
      " 32  geoNetwork.city                               116023 non-null  object \n",
      " 33  trafficSource.adwordsClickInfo.page           4281 non-null    float64\n",
      " 34  geoNetwork.metro                              116023 non-null  object \n",
      " 35  pageViews                                     116015 non-null  float64\n",
      " 36  locationZone                                  116023 non-null  int64  \n",
      " 37  device.mobileDeviceModel                      116023 non-null  object \n",
      " 38  trafficSource.referralPath                    42714 non-null   object \n",
      " 39  totals.bounces                                47148 non-null   float64\n",
      " 40  date                                          116023 non-null  int64  \n",
      " 41  device.language                               116023 non-null  object \n",
      " 42  deviceType                                    116023 non-null  object \n",
      " 43  userChannel                                   116023 non-null  object \n",
      " 44  device.browserVersion                         116023 non-null  object \n",
      " 45  totalHits                                     116023 non-null  int64  \n",
      " 46  device.screenColors                           116023 non-null  object \n",
      " 47  sessionStart                                  116023 non-null  int64  \n",
      " 48  geoNetwork.continent                          116023 non-null  object \n",
      " 49  device.isMobile                               116023 non-null  bool   \n",
      " 50  new_visits                                    80518 non-null   float64\n",
      "dtypes: bool(1), float64(4), int64(9), object(37)\n",
      "memory usage: 44.4+ MB\n"
     ]
    }
   ],
   "source": [
    "X.info()"
   ]
  },
  {
   "cell_type": "code",
   "execution_count": 5,
   "metadata": {
    "execution": {
     "iopub.execute_input": "2025-06-23T18:35:58.035859Z",
     "iopub.status.busy": "2025-06-23T18:35:58.035641Z",
     "iopub.status.idle": "2025-06-23T18:35:58.047658Z",
     "shell.execute_reply": "2025-06-23T18:35:58.046901Z",
     "shell.execute_reply.started": "2025-06-23T18:35:58.035841Z"
    },
    "trusted": true
   },
   "outputs": [],
   "source": [
    "X_cat = ['browser','geoCluster','trafficSource.adwordsClickInfo.slot','geoNetwork.networkDomain','os','geoNetwork.subContinent'\n",
    "        ,'trafficSource.medium','trafficSource.adwordsClickInfo.adNetworkType','trafficSource.adwordsClickInfo.page','deviceType','userChannel'\n",
    "        ,'geoNetwork.continent','geoNetwork.region','trafficSource','locationCountry','geoNetwork.city','geoNetwork.metro',\n",
    "         'trafficSource.referralPath','trafficSource.isTrueDirect','trafficSource.adwordsClickInfo.isVideoAd','device.isMobile']\n",
    "X_num = list(X.select_dtypes(include=['int64','float64']).columns)\n",
    "\n",
    "# print(sorted(list(X.columns)),sorted(list(X_cat)+list(X_num)))\n",
    "\n",
    "# assert(sorted(list(X.columns))==sorted(list(X_cat)+list(X_num)))"
   ]
  },
  {
   "cell_type": "code",
   "execution_count": 6,
   "metadata": {
    "execution": {
     "iopub.execute_input": "2025-06-23T18:35:58.048934Z",
     "iopub.status.busy": "2025-06-23T18:35:58.048611Z",
     "iopub.status.idle": "2025-06-23T18:36:05.678071Z",
     "shell.execute_reply": "2025-06-23T18:36:05.677286Z",
     "shell.execute_reply.started": "2025-06-23T18:35:58.048905Z"
    },
    "trusted": true
   },
   "outputs": [],
   "source": [
    "from sklearn.pipeline import Pipeline\n",
    "from sklearn.impute import SimpleImputer\n",
    "from sklearn.preprocessing import StandardScaler,OneHotEncoder\n",
    "from sklearn.compose import ColumnTransformer\n",
    "\n",
    "num_t = Pipeline(steps=[\n",
    "    ('imputer',SimpleImputer(strategy='mean')),\n",
    "    ('scaler',StandardScaler())\n",
    "])\n",
    "\n",
    "cat_t = Pipeline(steps=[\n",
    "    ('imputer',SimpleImputer(strategy='most_frequent')),\n",
    "    ('onehot',OneHotEncoder(sparse_output=False))\n",
    "])\n",
    "\n",
    "ct = ColumnTransformer(transformers=[\n",
    "    ('num_t',num_t,X_num),\n",
    "    ('cat_t',cat_t,X_cat)\n",
    "])\n",
    "\n",
    "X_new = ct.fit_transform(X)"
   ]
  },
  {
   "cell_type": "code",
   "execution_count": 7,
   "metadata": {
    "execution": {
     "iopub.execute_input": "2025-06-23T18:36:05.679434Z",
     "iopub.status.busy": "2025-06-23T18:36:05.678967Z",
     "iopub.status.idle": "2025-06-23T18:36:06.417240Z",
     "shell.execute_reply": "2025-06-23T18:36:06.416441Z",
     "shell.execute_reply.started": "2025-06-23T18:36:05.679402Z"
    },
    "trusted": true
   },
   "outputs": [],
   "source": [
    "from sklearn.model_selection import GridSearchCV,train_test_split\n",
    "X_train,X_test,Y_train,Y_test = train_test_split(X_new,Y,test_size=0.2,random_state=42)"
   ]
  },
  {
   "cell_type": "code",
   "execution_count": null,
   "metadata": {
    "execution": {
     "iopub.execute_input": "2025-06-23T18:36:06.425541Z",
     "iopub.status.busy": "2025-06-23T18:36:06.425200Z",
     "iopub.status.idle": "2025-06-23T18:41:21.437113Z",
     "shell.execute_reply": "2025-06-23T18:41:21.435674Z",
     "shell.execute_reply.started": "2025-06-23T18:36:06.425512Z"
    },
    "trusted": true
   },
   "outputs": [],
   "source": [
    "from sklearn.ensemble import RandomForestRegressor\n",
    "\n",
    "param_grid = {\n",
    "    'max_depth': [20, 30],\n",
    "    'min_samples_split': [2, 5],\n",
    "    'n_estimators': [50, 100]\n",
    "}\n",
    "\n",
    "gc = GridSearchCV(RandomForestRegressor(random_state=42),param_grid,cv=3,scoring='r2',n_jobs=-1)\n",
    "gc.fit(X_train,Y_train)"
   ]
  },
  {
   "cell_type": "code",
   "execution_count": null,
   "metadata": {
    "trusted": true
   },
   "outputs": [],
   "source": [
    "gc.best_params_"
   ]
  },
  {
   "cell_type": "code",
   "execution_count": null,
   "metadata": {
    "trusted": true
   },
   "outputs": [],
   "source": [
    "from sklearn.metrics import r2_score\n",
    "\n",
    "print(r2_score(Y_test,gc.best_estimator_.predict(X_test)))"
   ]
  },
  {
   "cell_type": "code",
   "execution_count": null,
   "metadata": {
    "trusted": true
   },
   "outputs": [],
   "source": [
    "from sklearn.ensemble import AdaBoostRegressor\n",
    "\n",
    "param_grid = {\n",
    "    'n_estimators': [10,20,30],\n",
    "    'learning_rate': [3,9]\n",
    "}\n",
    "\n",
    "gc = GridSearchCV(AdaBoostRegressor(random_state=42),param_grid,cv=3,scoring='r2',n_jobs=-1)\n",
    "gc.fit(X_train,Y_train)"
   ]
  },
  {
   "cell_type": "code",
   "execution_count": null,
   "metadata": {
    "trusted": true
   },
   "outputs": [],
   "source": [
    "gc.best_params_"
   ]
  },
  {
   "cell_type": "code",
   "execution_count": null,
   "metadata": {
    "trusted": true
   },
   "outputs": [],
   "source": [
    "print(r2_score(Y_test,gc.best_estimator_.predict(X_test)))"
   ]
  }
 ],
 "metadata": {
  "kaggle": {
   "accelerator": "none",
   "dataSources": [
    {
     "databundleVersionId": 11895149,
     "sourceId": 99546,
     "sourceType": "competition"
    }
   ],
   "dockerImageVersionId": 31012,
   "isGpuEnabled": false,
   "isInternetEnabled": true,
   "language": "python",
   "sourceType": "notebook"
  },
  "kernelspec": {
   "display_name": "Python 3",
   "language": "python",
   "name": "python3"
  },
  "language_info": {
   "codemirror_mode": {
    "name": "ipython",
    "version": 3
   },
   "file_extension": ".py",
   "mimetype": "text/x-python",
   "name": "python",
   "nbconvert_exporter": "python",
   "pygments_lexer": "ipython3",
   "version": "3.11.11"
  }
 },
 "nbformat": 4,
 "nbformat_minor": 4
}
