{
 "cells": [
  {
   "cell_type": "code",
   "execution_count": 1,
   "metadata": {},
   "outputs": [
    {
     "data": {
      "text/html": [
       "<div>\n",
       "<style scoped>\n",
       "    .dataframe tbody tr th:only-of-type {\n",
       "        vertical-align: middle;\n",
       "    }\n",
       "\n",
       "    .dataframe tbody tr th {\n",
       "        vertical-align: top;\n",
       "    }\n",
       "\n",
       "    .dataframe thead th {\n",
       "        text-align: right;\n",
       "    }\n",
       "</style>\n",
       "<table border=\"1\" class=\"dataframe\">\n",
       "  <thead>\n",
       "    <tr style=\"text-align: right;\">\n",
       "      <th></th>\n",
       "      <th>trafficSource.isTrueDirect</th>\n",
       "      <th>purchaseValue</th>\n",
       "      <th>browser</th>\n",
       "      <th>device.screenResolution</th>\n",
       "      <th>trafficSource.adContent</th>\n",
       "      <th>trafficSource.keyword</th>\n",
       "      <th>screenSize</th>\n",
       "      <th>geoCluster</th>\n",
       "      <th>trafficSource.adwordsClickInfo.slot</th>\n",
       "      <th>device.mobileDeviceBranding</th>\n",
       "      <th>...</th>\n",
       "      <th>device.language</th>\n",
       "      <th>deviceType</th>\n",
       "      <th>userChannel</th>\n",
       "      <th>device.browserVersion</th>\n",
       "      <th>totalHits</th>\n",
       "      <th>device.screenColors</th>\n",
       "      <th>sessionStart</th>\n",
       "      <th>geoNetwork.continent</th>\n",
       "      <th>device.isMobile</th>\n",
       "      <th>new_visits</th>\n",
       "    </tr>\n",
       "  </thead>\n",
       "  <tbody>\n",
       "    <tr>\n",
       "      <th>0</th>\n",
       "      <td>NaN</td>\n",
       "      <td>0.0</td>\n",
       "      <td>Edge</td>\n",
       "      <td>not available in demo dataset</td>\n",
       "      <td>NaN</td>\n",
       "      <td>NaN</td>\n",
       "      <td>medium</td>\n",
       "      <td>Region_2</td>\n",
       "      <td>NaN</td>\n",
       "      <td>not available in demo dataset</td>\n",
       "      <td>...</td>\n",
       "      <td>not available in demo dataset</td>\n",
       "      <td>desktop</td>\n",
       "      <td>Social</td>\n",
       "      <td>not available in demo dataset</td>\n",
       "      <td>1</td>\n",
       "      <td>not available in demo dataset</td>\n",
       "      <td>1500100799</td>\n",
       "      <td>Americas</td>\n",
       "      <td>False</td>\n",
       "      <td>1.0</td>\n",
       "    </tr>\n",
       "    <tr>\n",
       "      <th>1</th>\n",
       "      <td>True</td>\n",
       "      <td>0.0</td>\n",
       "      <td>Chrome</td>\n",
       "      <td>not available in demo dataset</td>\n",
       "      <td>NaN</td>\n",
       "      <td>NaN</td>\n",
       "      <td>medium</td>\n",
       "      <td>Region_3</td>\n",
       "      <td>NaN</td>\n",
       "      <td>not available in demo dataset</td>\n",
       "      <td>...</td>\n",
       "      <td>not available in demo dataset</td>\n",
       "      <td>desktop</td>\n",
       "      <td>Direct</td>\n",
       "      <td>not available in demo dataset</td>\n",
       "      <td>1</td>\n",
       "      <td>not available in demo dataset</td>\n",
       "      <td>1495262065</td>\n",
       "      <td>Americas</td>\n",
       "      <td>False</td>\n",
       "      <td>1.0</td>\n",
       "    </tr>\n",
       "    <tr>\n",
       "      <th>2</th>\n",
       "      <td>True</td>\n",
       "      <td>0.0</td>\n",
       "      <td>Chrome</td>\n",
       "      <td>not available in demo dataset</td>\n",
       "      <td>NaN</td>\n",
       "      <td>(not provided)</td>\n",
       "      <td>medium</td>\n",
       "      <td>Region_2</td>\n",
       "      <td>NaN</td>\n",
       "      <td>not available in demo dataset</td>\n",
       "      <td>...</td>\n",
       "      <td>not available in demo dataset</td>\n",
       "      <td>desktop</td>\n",
       "      <td>Organic Search</td>\n",
       "      <td>not available in demo dataset</td>\n",
       "      <td>6</td>\n",
       "      <td>not available in demo dataset</td>\n",
       "      <td>1508510328</td>\n",
       "      <td>Europe</td>\n",
       "      <td>False</td>\n",
       "      <td>NaN</td>\n",
       "    </tr>\n",
       "    <tr>\n",
       "      <th>3</th>\n",
       "      <td>NaN</td>\n",
       "      <td>0.0</td>\n",
       "      <td>Internet Explorer</td>\n",
       "      <td>not available in demo dataset</td>\n",
       "      <td>NaN</td>\n",
       "      <td>NaN</td>\n",
       "      <td>medium</td>\n",
       "      <td>Region_4</td>\n",
       "      <td>NaN</td>\n",
       "      <td>not available in demo dataset</td>\n",
       "      <td>...</td>\n",
       "      <td>not available in demo dataset</td>\n",
       "      <td>desktop</td>\n",
       "      <td>Social</td>\n",
       "      <td>not available in demo dataset</td>\n",
       "      <td>1</td>\n",
       "      <td>not available in demo dataset</td>\n",
       "      <td>1483431838</td>\n",
       "      <td>Asia</td>\n",
       "      <td>False</td>\n",
       "      <td>1.0</td>\n",
       "    </tr>\n",
       "    <tr>\n",
       "      <th>4</th>\n",
       "      <td>True</td>\n",
       "      <td>88950000.0</td>\n",
       "      <td>Chrome</td>\n",
       "      <td>not available in demo dataset</td>\n",
       "      <td>NaN</td>\n",
       "      <td>NaN</td>\n",
       "      <td>medium</td>\n",
       "      <td>Region_3</td>\n",
       "      <td>NaN</td>\n",
       "      <td>not available in demo dataset</td>\n",
       "      <td>...</td>\n",
       "      <td>not available in demo dataset</td>\n",
       "      <td>desktop</td>\n",
       "      <td>Direct</td>\n",
       "      <td>not available in demo dataset</td>\n",
       "      <td>66</td>\n",
       "      <td>not available in demo dataset</td>\n",
       "      <td>1475804633</td>\n",
       "      <td>Americas</td>\n",
       "      <td>False</td>\n",
       "      <td>1.0</td>\n",
       "    </tr>\n",
       "  </tbody>\n",
       "</table>\n",
       "<p>5 rows × 52 columns</p>\n",
       "</div>"
      ],
      "text/plain": [
       "  trafficSource.isTrueDirect  purchaseValue            browser  \\\n",
       "0                        NaN            0.0               Edge   \n",
       "1                       True            0.0             Chrome   \n",
       "2                       True            0.0             Chrome   \n",
       "3                        NaN            0.0  Internet Explorer   \n",
       "4                       True     88950000.0             Chrome   \n",
       "\n",
       "         device.screenResolution trafficSource.adContent  \\\n",
       "0  not available in demo dataset                     NaN   \n",
       "1  not available in demo dataset                     NaN   \n",
       "2  not available in demo dataset                     NaN   \n",
       "3  not available in demo dataset                     NaN   \n",
       "4  not available in demo dataset                     NaN   \n",
       "\n",
       "  trafficSource.keyword screenSize geoCluster  \\\n",
       "0                   NaN     medium   Region_2   \n",
       "1                   NaN     medium   Region_3   \n",
       "2        (not provided)     medium   Region_2   \n",
       "3                   NaN     medium   Region_4   \n",
       "4                   NaN     medium   Region_3   \n",
       "\n",
       "  trafficSource.adwordsClickInfo.slot    device.mobileDeviceBranding  ...  \\\n",
       "0                                 NaN  not available in demo dataset  ...   \n",
       "1                                 NaN  not available in demo dataset  ...   \n",
       "2                                 NaN  not available in demo dataset  ...   \n",
       "3                                 NaN  not available in demo dataset  ...   \n",
       "4                                 NaN  not available in demo dataset  ...   \n",
       "\n",
       "                 device.language  deviceType     userChannel  \\\n",
       "0  not available in demo dataset     desktop          Social   \n",
       "1  not available in demo dataset     desktop          Direct   \n",
       "2  not available in demo dataset     desktop  Organic Search   \n",
       "3  not available in demo dataset     desktop          Social   \n",
       "4  not available in demo dataset     desktop          Direct   \n",
       "\n",
       "           device.browserVersion totalHits            device.screenColors  \\\n",
       "0  not available in demo dataset         1  not available in demo dataset   \n",
       "1  not available in demo dataset         1  not available in demo dataset   \n",
       "2  not available in demo dataset         6  not available in demo dataset   \n",
       "3  not available in demo dataset         1  not available in demo dataset   \n",
       "4  not available in demo dataset        66  not available in demo dataset   \n",
       "\n",
       "  sessionStart  geoNetwork.continent device.isMobile new_visits  \n",
       "0   1500100799              Americas           False        1.0  \n",
       "1   1495262065              Americas           False        1.0  \n",
       "2   1508510328                Europe           False        NaN  \n",
       "3   1483431838                  Asia           False        1.0  \n",
       "4   1475804633              Americas           False        1.0  \n",
       "\n",
       "[5 rows x 52 columns]"
      ]
     },
     "execution_count": 1,
     "metadata": {},
     "output_type": "execute_result"
    }
   ],
   "source": [
    "import pandas as pd\n",
    "\n",
    "df = pd.read_csv('train_data.csv')\n",
    "df.head()"
   ]
  },
  {
   "cell_type": "code",
   "execution_count": 2,
   "metadata": {},
   "outputs": [
    {
     "data": {
      "text/plain": [
       "Index(['trafficSource.isTrueDirect', 'purchaseValue', 'browser',\n",
       "       'device.screenResolution', 'trafficSource.adContent',\n",
       "       'trafficSource.keyword', 'screenSize', 'geoCluster',\n",
       "       'trafficSource.adwordsClickInfo.slot', 'device.mobileDeviceBranding',\n",
       "       'device.mobileInputSelector', 'userId', 'trafficSource.campaign',\n",
       "       'device.mobileDeviceMarketingName', 'geoNetwork.networkDomain',\n",
       "       'gclIdPresent', 'device.operatingSystemVersion', 'sessionNumber',\n",
       "       'device.flashVersion', 'geoNetwork.region', 'trafficSource',\n",
       "       'totals.visits', 'geoNetwork.networkLocation', 'sessionId', 'os',\n",
       "       'geoNetwork.subContinent', 'trafficSource.medium',\n",
       "       'trafficSource.adwordsClickInfo.isVideoAd', 'browserMajor',\n",
       "       'locationCountry', 'device.browserSize',\n",
       "       'trafficSource.adwordsClickInfo.adNetworkType', 'socialEngagementType',\n",
       "       'geoNetwork.city', 'trafficSource.adwordsClickInfo.page',\n",
       "       'geoNetwork.metro', 'pageViews', 'locationZone',\n",
       "       'device.mobileDeviceModel', 'trafficSource.referralPath',\n",
       "       'totals.bounces', 'date', 'device.language', 'deviceType',\n",
       "       'userChannel', 'device.browserVersion', 'totalHits',\n",
       "       'device.screenColors', 'sessionStart', 'geoNetwork.continent',\n",
       "       'device.isMobile', 'new_visits'],\n",
       "      dtype='object')"
      ]
     },
     "execution_count": 2,
     "metadata": {},
     "output_type": "execute_result"
    }
   ],
   "source": [
    "df.columns"
   ]
  },
  {
   "cell_type": "code",
   "execution_count": 5,
   "metadata": {},
   "outputs": [
    {
     "name": "stdout",
     "output_type": "stream",
     "text": [
      "               pageViews  purchaseValue\n",
      "pageViews       1.000000       0.225472\n",
      "purchaseValue   0.225472       1.000000\n"
     ]
    }
   ],
   "source": [
    "print(df[df['totals.bounces'].isna()][['pageViews','purchaseValue']].corr())"
   ]
  },
  {
   "cell_type": "code",
   "execution_count": 21,
   "metadata": {},
   "outputs": [
    {
     "name": "stdout",
     "output_type": "stream",
     "text": [
      "Americas 15.377977553825012\n",
      "Asia 3.513938527519657\n",
      "Europe 3.186705430176407\n",
      "Africa 2.8128219805380654\n",
      "Oceania 4.678704856787048\n",
      "(not set) 5.147058823529412\n"
     ]
    }
   ],
   "source": [
    "for i in df['geoNetwork.continent'].value_counts().keys():\n",
    "    print(i,df[df['geoNetwork.continent']==i]['totalHits'].sum()/df[df['geoNetwork.continent']==i]['totalHits'].shape[0])"
   ]
  },
  {
   "cell_type": "code",
   "execution_count": 25,
   "metadata": {},
   "outputs": [
    {
     "data": {
      "text/plain": [
       "trafficSource.medium\n",
       "(none)       12108\n",
       "organic       6084\n",
       "referral      4719\n",
       "cpc            786\n",
       "cpm            266\n",
       "affiliate       20\n",
       "(not set)        2\n",
       "Name: count, dtype: int64"
      ]
     },
     "execution_count": 25,
     "metadata": {},
     "output_type": "execute_result"
    }
   ],
   "source": [
    "df[df['purchaseValue']!=0]['trafficSource.medium'].value_counts()"
   ]
  },
  {
   "cell_type": "code",
   "execution_count": 27,
   "metadata": {},
   "outputs": [
    {
     "data": {
      "text/plain": [
       "os             browser          \n",
       "Macintosh      Chrome               12631\n",
       "Windows        Chrome                4050\n",
       "Chrome OS      Chrome                2148\n",
       "Linux          Chrome                1626\n",
       "Android        Chrome                 944\n",
       "iOS            Safari                 883\n",
       "Macintosh      Safari                 690\n",
       "Windows        Firefox                290\n",
       "               Internet Explorer      213\n",
       "iOS            Chrome                 196\n",
       "Macintosh      Firefox                125\n",
       "Windows        Edge                   113\n",
       "iOS            Safari (in-app)         22\n",
       "Linux          Firefox                 17\n",
       "Windows        Opera                   11\n",
       "Android        Android Webview          9\n",
       "               Samsung Internet         5\n",
       "               Firefox                  5\n",
       "Macintosh      Opera                    4\n",
       "Windows Phone  Safari                   2\n",
       "Android        Opera                    1\n",
       "Name: count, dtype: int64"
      ]
     },
     "execution_count": 27,
     "metadata": {},
     "output_type": "execute_result"
    }
   ],
   "source": [
    "df[df['purchaseValue']!=0][['os','browser']].value_counts()"
   ]
  },
  {
   "cell_type": "code",
   "execution_count": 28,
   "metadata": {},
   "outputs": [
    {
     "data": {
      "text/plain": [
       "8.620424953311248"
      ]
     },
     "execution_count": 28,
     "metadata": {},
     "output_type": "execute_result"
    }
   ],
   "source": [
    "(df[df['purchaseValue']!=0]['totalHits'].sum()*df[df['purchaseValue']==0]['totalHits'].shape[0])/(df[df['purchaseValue']==0]['totalHits'].sum()*df[df['purchaseValue']!=0]['totalHits'].shape[0])"
   ]
  },
  {
   "cell_type": "code",
   "execution_count": 33,
   "metadata": {},
   "outputs": [
    {
     "name": "stdout",
     "output_type": "stream",
     "text": [
      "0.3503960421640537\n"
     ]
    }
   ],
   "source": [
    "L = df['trafficSource.medium'].value_counts()\n",
    "k = L['organic']\n",
    "L = L.values\n",
    "print(k/(sum(L)))"
   ]
  },
  {
   "cell_type": "code",
   "execution_count": 35,
   "metadata": {},
   "outputs": [
    {
     "data": {
      "text/plain": [
       "trafficSource.referralPath\n",
       "/                                                             10743\n",
       "/mail/u/0/                                                      110\n",
       "/offer/2145                                                      83\n",
       "/a/google.com/forum/                                             60\n",
       "/google-merchandise-store                                        38\n",
       "                                                              ...  \n",
       "/optimize/opt-launch.html                                         1\n",
       "/a/google.com/aa-noogler/getting-started/training-schedule        1\n",
       "/yt/space/losangeles/                                             1\n",
       "/yt/space/newyork/                                                1\n",
       "/corp/google.com/study/incentives/incentives-amounts              1\n",
       "Name: count, Length: 73, dtype: int64"
      ]
     },
     "execution_count": 35,
     "metadata": {},
     "output_type": "execute_result"
    }
   ],
   "source": [
    "df[df['purchaseValue']!=0]['trafficSource.referralPath'].value_counts()"
   ]
  },
  {
   "cell_type": "code",
   "execution_count": 37,
   "metadata": {},
   "outputs": [
    {
     "name": "stdout",
     "output_type": "stream",
     "text": [
      "Chrome OS\n"
     ]
    }
   ],
   "source": [
    "L = []\n",
    "for i in df['os'].value_counts().keys():\n",
    "    L.append((i,df[df['os']==i]['purchaseValue'].sum()/df[df['os']==i].shape[0]))\n",
    "L = sorted(L,key=lambda x:x[1])\n",
    "print(L[-1][0])"
   ]
  },
  {
   "cell_type": "code",
   "execution_count": null,
   "metadata": {},
   "outputs": [
    {
     "data": {
      "text/plain": [
       "Index(['trafficSource.isTrueDirect', 'purchaseValue', 'browser',\n",
       "       'device.screenResolution', 'trafficSource.adContent',\n",
       "       'trafficSource.keyword', 'screenSize', 'geoCluster',\n",
       "       'trafficSource.adwordsClickInfo.slot', 'device.mobileDeviceBranding',\n",
       "       'device.mobileInputSelector', 'userId', 'trafficSource.campaign',\n",
       "       'device.mobileDeviceMarketingName', 'geoNetwork.networkDomain',\n",
       "       'gclIdPresent', 'device.operatingSystemVersion', 'sessionNumber',\n",
       "       'device.flashVersion', 'geoNetwork.region', 'trafficSource',\n",
       "       'totals.visits', 'geoNetwork.networkLocation', 'sessionId', 'os',\n",
       "       'geoNetwork.subContinent', 'trafficSource.medium',\n",
       "       'trafficSource.adwordsClickInfo.isVideoAd', 'browserMajor',\n",
       "       'locationCountry', 'device.browserSize',\n",
       "       'trafficSource.adwordsClickInfo.adNetworkType', 'socialEngagementType',\n",
       "       'geoNetwork.city', 'trafficSource.adwordsClickInfo.page',\n",
       "       'geoNetwork.metro', 'pageViews', 'locationZone',\n",
       "       'device.mobileDeviceModel', 'trafficSource.referralPath',\n",
       "       'totals.bounces', 'date', 'device.language', 'deviceType',\n",
       "       'userChannel', 'device.browserVersion', 'totalHits',\n",
       "       'device.screenColors', 'sessionStart', 'geoNetwork.continent',\n",
       "       'device.isMobile', 'new_visits'],\n",
       "      dtype='object')"
      ]
     },
     "execution_count": 39,
     "metadata": {},
     "output_type": "execute_result"
    }
   ],
   "source": [
    "df"
   ]
  },
  {
   "cell_type": "code",
   "execution_count": 41,
   "metadata": {},
   "outputs": [
    {
     "name": "stdout",
     "output_type": "stream",
     "text": [
      "1.780940253147552\n"
     ]
    }
   ],
   "source": [
    "print(df.groupby(\"userId\")[\"sessionNumber\"].mean().mean())"
   ]
  },
  {
   "cell_type": "code",
   "execution_count": 42,
   "metadata": {},
   "outputs": [
    {
     "name": "stdout",
     "output_type": "stream",
     "text": [
      "100499\n"
     ]
    }
   ],
   "source": [
    "print(len(df['userId'].value_counts()))"
   ]
  },
  {
   "cell_type": "markdown",
   "metadata": {},
   "source": [
    "I manually checked each column, which were necessary, removed all the columns having not in dataset values, or having a single values such as all the screen size having medium, or having more than 95% missing value, since they wouldn't help me, after that I notice that whenever totals.bounces is 1, the purchaseValue is 0, this probably meant that whenever the user was not able to visit the website due to some reason, it wouldn't be possible to purchase anything, so i added that whenever the totals.bounces is 1, the final answer will be 0. I also noticed that there were some values in some columns that were only in train set or test set, which i then replaced with (not set), since it would be better to consider these as average cases rather than singular cases. I did feature extraction on date and sessionStart, first converting sessionStart to datetime format, then making new columns such as is_weekend, dayoftheweek and more such columns, converted columns such as day of week to sine and cosine form to show the closeness of the starting and ending points. Replaced the na values of the columns having rest of the values as True with False and vice versa. Removed all the rows having totals.bounces as 1, since these are the users that didn't get a chance to purchase, so this might direct the model towards wrong direction. I also dropped duplicates values. Removing outliers affected the model a lot, it would seem that the outliers played quite an important role and removing even a few of them decreased the score by a lot, so i kept them. I made a few graphs and heatmaps between columns to get a better idea about the relation between them as well."
   ]
  }
 ],
 "metadata": {
  "kernelspec": {
   "display_name": "Python 3",
   "language": "python",
   "name": "python3"
  },
  "language_info": {
   "codemirror_mode": {
    "name": "ipython",
    "version": 3
   },
   "file_extension": ".py",
   "mimetype": "text/x-python",
   "name": "python",
   "nbconvert_exporter": "python",
   "pygments_lexer": "ipython3",
   "version": "3.12.0"
  }
 },
 "nbformat": 4,
 "nbformat_minor": 2
}
